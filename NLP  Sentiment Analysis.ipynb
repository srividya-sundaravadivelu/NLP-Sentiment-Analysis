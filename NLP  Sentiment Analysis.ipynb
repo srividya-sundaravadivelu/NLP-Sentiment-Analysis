{
 "cells": [
  {
   "cell_type": "code",
   "execution_count": 1,
   "id": "5544b498",
   "metadata": {},
   "outputs": [],
   "source": [
    "import pandas as pd\n",
    "import string\n",
    "import nltk"
   ]
  },
  {
   "cell_type": "code",
   "execution_count": 2,
   "id": "71e36fef",
   "metadata": {},
   "outputs": [],
   "source": [
    "from nltk.corpus import stopwords"
   ]
  },
  {
   "cell_type": "code",
   "execution_count": 3,
   "id": "8991cff8",
   "metadata": {},
   "outputs": [],
   "source": [
    "#Read the SpamCollection file\n",
    "df = pd.read_csv('imdb_labelled.txt',sep='\\t',names=['Comment','Label'])"
   ]
  },
  {
   "cell_type": "code",
   "execution_count": 4,
   "id": "f22ec030",
   "metadata": {},
   "outputs": [
    {
     "data": {
      "text/html": [
       "<div>\n",
       "<style scoped>\n",
       "    .dataframe tbody tr th:only-of-type {\n",
       "        vertical-align: middle;\n",
       "    }\n",
       "\n",
       "    .dataframe tbody tr th {\n",
       "        vertical-align: top;\n",
       "    }\n",
       "\n",
       "    .dataframe thead th {\n",
       "        text-align: right;\n",
       "    }\n",
       "</style>\n",
       "<table border=\"1\" class=\"dataframe\">\n",
       "  <thead>\n",
       "    <tr style=\"text-align: right;\">\n",
       "      <th></th>\n",
       "      <th>Comment</th>\n",
       "      <th>Label</th>\n",
       "    </tr>\n",
       "  </thead>\n",
       "  <tbody>\n",
       "    <tr>\n",
       "      <th>0</th>\n",
       "      <td>A very, very, very slow-moving, aimless movie ...</td>\n",
       "      <td>0</td>\n",
       "    </tr>\n",
       "    <tr>\n",
       "      <th>1</th>\n",
       "      <td>Not sure who was more lost - the flat characte...</td>\n",
       "      <td>0</td>\n",
       "    </tr>\n",
       "    <tr>\n",
       "      <th>2</th>\n",
       "      <td>Attempting artiness with black &amp; white and cle...</td>\n",
       "      <td>0</td>\n",
       "    </tr>\n",
       "    <tr>\n",
       "      <th>3</th>\n",
       "      <td>Very little music or anything to speak of.</td>\n",
       "      <td>0</td>\n",
       "    </tr>\n",
       "    <tr>\n",
       "      <th>4</th>\n",
       "      <td>The best scene in the movie was when Gerardo i...</td>\n",
       "      <td>1</td>\n",
       "    </tr>\n",
       "    <tr>\n",
       "      <th>...</th>\n",
       "      <td>...</td>\n",
       "      <td>...</td>\n",
       "    </tr>\n",
       "    <tr>\n",
       "      <th>743</th>\n",
       "      <td>I just got bored watching Jessice Lange take h...</td>\n",
       "      <td>0</td>\n",
       "    </tr>\n",
       "    <tr>\n",
       "      <th>744</th>\n",
       "      <td>Unfortunately, any virtue in this film's produ...</td>\n",
       "      <td>0</td>\n",
       "    </tr>\n",
       "    <tr>\n",
       "      <th>745</th>\n",
       "      <td>In a word, it is embarrassing.</td>\n",
       "      <td>0</td>\n",
       "    </tr>\n",
       "    <tr>\n",
       "      <th>746</th>\n",
       "      <td>Exceptionally bad!</td>\n",
       "      <td>0</td>\n",
       "    </tr>\n",
       "    <tr>\n",
       "      <th>747</th>\n",
       "      <td>All in all its an insult to one's intelligence...</td>\n",
       "      <td>0</td>\n",
       "    </tr>\n",
       "  </tbody>\n",
       "</table>\n",
       "<p>748 rows × 2 columns</p>\n",
       "</div>"
      ],
      "text/plain": [
       "                                               Comment  Label\n",
       "0    A very, very, very slow-moving, aimless movie ...      0\n",
       "1    Not sure who was more lost - the flat characte...      0\n",
       "2    Attempting artiness with black & white and cle...      0\n",
       "3         Very little music or anything to speak of.        0\n",
       "4    The best scene in the movie was when Gerardo i...      1\n",
       "..                                                 ...    ...\n",
       "743  I just got bored watching Jessice Lange take h...      0\n",
       "744  Unfortunately, any virtue in this film's produ...      0\n",
       "745                   In a word, it is embarrassing.        0\n",
       "746                               Exceptionally bad!        0\n",
       "747  All in all its an insult to one's intelligence...      0\n",
       "\n",
       "[748 rows x 2 columns]"
      ]
     },
     "execution_count": 4,
     "metadata": {},
     "output_type": "execute_result"
    }
   ],
   "source": [
    "df"
   ]
  },
  {
   "cell_type": "code",
   "execution_count": 5,
   "id": "625ab730",
   "metadata": {},
   "outputs": [
    {
     "data": {
      "text/html": [
       "<div>\n",
       "<style scoped>\n",
       "    .dataframe tbody tr th:only-of-type {\n",
       "        vertical-align: middle;\n",
       "    }\n",
       "\n",
       "    .dataframe tbody tr th {\n",
       "        vertical-align: top;\n",
       "    }\n",
       "\n",
       "    .dataframe thead th {\n",
       "        text-align: right;\n",
       "    }\n",
       "</style>\n",
       "<table border=\"1\" class=\"dataframe\">\n",
       "  <thead>\n",
       "    <tr style=\"text-align: right;\">\n",
       "      <th></th>\n",
       "      <th>Comment</th>\n",
       "      <th>Label</th>\n",
       "    </tr>\n",
       "  </thead>\n",
       "  <tbody>\n",
       "    <tr>\n",
       "      <th>0</th>\n",
       "      <td>A very, very, very slow-moving, aimless movie ...</td>\n",
       "      <td>0</td>\n",
       "    </tr>\n",
       "    <tr>\n",
       "      <th>1</th>\n",
       "      <td>Not sure who was more lost - the flat characte...</td>\n",
       "      <td>0</td>\n",
       "    </tr>\n",
       "    <tr>\n",
       "      <th>2</th>\n",
       "      <td>Attempting artiness with black &amp; white and cle...</td>\n",
       "      <td>0</td>\n",
       "    </tr>\n",
       "    <tr>\n",
       "      <th>3</th>\n",
       "      <td>Very little music or anything to speak of.</td>\n",
       "      <td>0</td>\n",
       "    </tr>\n",
       "    <tr>\n",
       "      <th>4</th>\n",
       "      <td>The best scene in the movie was when Gerardo i...</td>\n",
       "      <td>1</td>\n",
       "    </tr>\n",
       "  </tbody>\n",
       "</table>\n",
       "</div>"
      ],
      "text/plain": [
       "                                             Comment  Label\n",
       "0  A very, very, very slow-moving, aimless movie ...      0\n",
       "1  Not sure who was more lost - the flat characte...      0\n",
       "2  Attempting artiness with black & white and cle...      0\n",
       "3       Very little music or anything to speak of.        0\n",
       "4  The best scene in the movie was when Gerardo i...      1"
      ]
     },
     "execution_count": 5,
     "metadata": {},
     "output_type": "execute_result"
    }
   ],
   "source": [
    "#Display first 5 Records\n",
    "df.head()"
   ]
  },
  {
   "cell_type": "code",
   "execution_count": 6,
   "id": "03c0284a",
   "metadata": {},
   "outputs": [
    {
     "data": {
      "text/html": [
       "<div>\n",
       "<style scoped>\n",
       "    .dataframe tbody tr th:only-of-type {\n",
       "        vertical-align: middle;\n",
       "    }\n",
       "\n",
       "    .dataframe tbody tr th {\n",
       "        vertical-align: top;\n",
       "    }\n",
       "\n",
       "    .dataframe thead tr th {\n",
       "        text-align: left;\n",
       "    }\n",
       "\n",
       "    .dataframe thead tr:last-of-type th {\n",
       "        text-align: right;\n",
       "    }\n",
       "</style>\n",
       "<table border=\"1\" class=\"dataframe\">\n",
       "  <thead>\n",
       "    <tr>\n",
       "      <th></th>\n",
       "      <th colspan=\"4\" halign=\"left\">Comment</th>\n",
       "    </tr>\n",
       "    <tr>\n",
       "      <th></th>\n",
       "      <th>count</th>\n",
       "      <th>unique</th>\n",
       "      <th>top</th>\n",
       "      <th>freq</th>\n",
       "    </tr>\n",
       "    <tr>\n",
       "      <th>Label</th>\n",
       "      <th></th>\n",
       "      <th></th>\n",
       "      <th></th>\n",
       "      <th></th>\n",
       "    </tr>\n",
       "  </thead>\n",
       "  <tbody>\n",
       "    <tr>\n",
       "      <th>0</th>\n",
       "      <td>362</td>\n",
       "      <td>361</td>\n",
       "      <td>Not recommended.</td>\n",
       "      <td>2</td>\n",
       "    </tr>\n",
       "    <tr>\n",
       "      <th>1</th>\n",
       "      <td>386</td>\n",
       "      <td>384</td>\n",
       "      <td>Definitely worth checking out.</td>\n",
       "      <td>2</td>\n",
       "    </tr>\n",
       "  </tbody>\n",
       "</table>\n",
       "</div>"
      ],
      "text/plain": [
       "      Comment                                              \n",
       "        count unique                               top freq\n",
       "Label                                                      \n",
       "0         362    361                Not recommended.      2\n",
       "1         386    384  Definitely worth checking out.      2"
      ]
     },
     "execution_count": 6,
     "metadata": {},
     "output_type": "execute_result"
    }
   ],
   "source": [
    "# Group by to find the count of positive  and negative comments. Label - 1 : positive, 0 : Negative\n",
    "df.groupby('Label').describe() "
   ]
  },
  {
   "cell_type": "code",
   "execution_count": 7,
   "id": "6d37a403",
   "metadata": {},
   "outputs": [],
   "source": [
    "# Find the length of messages\n",
    "df['length'] = df['Comment'].apply(len)"
   ]
  },
  {
   "cell_type": "code",
   "execution_count": 8,
   "id": "5f4eca52",
   "metadata": {},
   "outputs": [
    {
     "data": {
      "text/plain": [
       "0       87\n",
       "1       99\n",
       "2      188\n",
       "3       44\n",
       "4      108\n",
       "      ... \n",
       "743     63\n",
       "744     92\n",
       "745     32\n",
       "746     20\n",
       "747     75\n",
       "Name: length, Length: 748, dtype: int64"
      ]
     },
     "execution_count": 8,
     "metadata": {},
     "output_type": "execute_result"
    }
   ],
   "source": [
    "df['length']"
   ]
  },
  {
   "cell_type": "code",
   "execution_count": 9,
   "id": "e671e306",
   "metadata": {},
   "outputs": [],
   "source": [
    "# STEPS:\n",
    "# 1. Remove punctuations and stopwords. Split the sentence into words. This process is called tokenization. \n",
    "# 2. Apply CountVectorizer and Transform. This converts the words to a integer or float. This process is called as Feature Extraction.\n",
    "# 3. Apply TF/IDF transform - Term Frequency and Inverse Document Frequency \n",
    "# 4. Split data into train and test\n",
    "# 5. Using Naive Bayes Classification, first train the model with train data.\n",
    "# 6. Test the model and get the prediction.\n",
    "# 7. Compare prediction vs Actual and get the confusion matrix.\n",
    "# 8. Get the accuracy score for the model."
   ]
  },
  {
   "cell_type": "code",
   "execution_count": 10,
   "id": "1fb9fd64",
   "metadata": {},
   "outputs": [],
   "source": [
    "# function to remove punctuations and stopwords\n",
    "def message_text_process(message):   \n",
    "    no_punct = [char for char in message if char not in string.punctuation]\n",
    "    no_punct = ''.join(no_punct)    \n",
    "    return [word for word in no_punct.split() if word.lower() not in stopwords.words('english')]           \n",
    "                "
   ]
  },
  {
   "cell_type": "code",
   "execution_count": 11,
   "id": "fdedcbd0",
   "metadata": {},
   "outputs": [
    {
     "data": {
      "text/plain": [
       "0    [slowmoving, aimless, movie, distressed, drift...\n",
       "1    [sure, lost, flat, characters, audience, nearl...\n",
       "2    [Attempting, artiness, black, white, clever, c...\n",
       "3                     [little, music, anything, speak]\n",
       "4    [best, scene, movie, Gerardo, trying, find, so...\n",
       "Name: Comment, dtype: object"
      ]
     },
     "execution_count": 11,
     "metadata": {},
     "output_type": "execute_result"
    }
   ],
   "source": [
    "# test the above function to see if its working\n",
    "df['Comment'].head(5).apply(message_text_process)"
   ]
  },
  {
   "cell_type": "code",
   "execution_count": 12,
   "id": "5f616155",
   "metadata": {},
   "outputs": [],
   "source": [
    "from sklearn.feature_extraction.text import CountVectorizer"
   ]
  },
  {
   "cell_type": "code",
   "execution_count": 13,
   "id": "c8fa89d4",
   "metadata": {},
   "outputs": [],
   "source": [
    "# Apply CountVectorizer - Convert a collection of text documents to a matrix of token counts.\n",
    "vectorization = CountVectorizer(analyzer = message_text_process )\n"
   ]
  },
  {
   "cell_type": "code",
   "execution_count": 14,
   "id": "b9723b80",
   "metadata": {},
   "outputs": [
    {
     "name": "stdout",
     "output_type": "stream",
     "text": [
      "{'slowmoving': 5, 'aimless': 0, 'movie': 4, 'distressed': 1, 'drifting': 2, 'young': 6, 'man': 3}\n",
      "  (0, 0)\t1\n",
      "  (0, 1)\t1\n",
      "  (0, 2)\t1\n",
      "  (0, 3)\t1\n",
      "  (0, 4)\t1\n",
      "  (0, 5)\t1\n",
      "  (0, 6)\t1\n"
     ]
    }
   ],
   "source": [
    "# TRIAL ---- try out the Count Vectorizer and Transform for only 1 record to see the output.\n",
    "# try out the count vectorizer for the first record alone\n",
    "bag_of_words_transformer_try = vectorization.fit(df['Comment'].head(1))\n",
    "# print out the bag_of_words_transformer\n",
    "print(bag_of_words_transformer_try.vocabulary_)\n",
    "# transform the first record alone\n",
    "comment_try = bag_of_words_transformer_try.transform(df['Comment'].head(1))\n",
    "print(comment_try)\n"
   ]
  },
  {
   "cell_type": "code",
   "execution_count": 15,
   "id": "dbdf52eb",
   "metadata": {},
   "outputs": [
    {
     "name": "stdout",
     "output_type": "stream",
     "text": [
      "3259\n",
      "  (0, 808)\t1\n",
      "  (0, 1350)\t1\n",
      "  (0, 1377)\t1\n",
      "  (0, 2066)\t1\n",
      "  (0, 2153)\t1\n",
      "  (0, 2723)\t1\n",
      "  (0, 3250)\t1\n",
      "  (1, 889)\t1\n",
      "  (1, 1068)\t1\n",
      "  (1, 1608)\t1\n",
      "  (1, 1741)\t1\n",
      "  (1, 2037)\t1\n",
      "  (1, 2183)\t1\n",
      "  (1, 2862)\t1\n",
      "  (1, 3143)\t1\n",
      "  (2, 87)\t1\n",
      "  (2, 774)\t1\n",
      "  (2, 817)\t1\n",
      "  (2, 837)\t1\n",
      "  (2, 866)\t1\n",
      "  (2, 931)\t1\n",
      "  (2, 956)\t1\n",
      "  (2, 1021)\t1\n",
      "  (2, 1111)\t1\n",
      "  (2, 1334)\t1\n",
      "  :\t:\n",
      "  (743, 389)\t1\n",
      "  (743, 421)\t1\n",
      "  (743, 982)\t1\n",
      "  (743, 1119)\t1\n",
      "  (743, 1712)\t1\n",
      "  (743, 2883)\t1\n",
      "  (743, 3164)\t1\n",
      "  (744, 702)\t1\n",
      "  (744, 1587)\t1\n",
      "  (744, 2037)\t1\n",
      "  (744, 2413)\t1\n",
      "  (744, 2495)\t1\n",
      "  (744, 2610)\t1\n",
      "  (744, 3125)\t1\n",
      "  (744, 3215)\t1\n",
      "  (745, 1418)\t1\n",
      "  (745, 3212)\t1\n",
      "  (746, 254)\t1\n",
      "  (746, 911)\t1\n",
      "  (747, 1822)\t1\n",
      "  (747, 1891)\t1\n",
      "  (747, 1895)\t1\n",
      "  (747, 2135)\t1\n",
      "  (747, 2247)\t1\n",
      "  (747, 3158)\t1\n"
     ]
    }
   ],
   "source": [
    "#Apply CountVectorizer to the entire df\n",
    "bag_of_words_transformer = vectorization.fit(df['Comment'])\n",
    "print(len(bag_of_words_transformer.vocabulary_))\n",
    "comment = bag_of_words_transformer.transform(df['Comment'])\n",
    "print(comment)"
   ]
  },
  {
   "cell_type": "code",
   "execution_count": 16,
   "id": "06bdc3d7",
   "metadata": {},
   "outputs": [],
   "source": [
    "# Apply Tf/IDF\n",
    "#TF/IDF transform - eg\n",
    "#Consider a document containing 100 words wherein the word cat appears 3 times. \n",
    "#The term frequency (i.e., tf) for cat is then (3 / 100) = 0.03. \n",
    "#Now, assume we have 10 million documents and the word cat appears in one thousand of these. \n",
    "#Then, the inverse document frequency (i.e., idf) is calculated as log(10,000,000 / 1,000) = 4. \n",
    "#Thus, the Tf-idf weight is the product of these quantities: 0.03 * 4 = 0.12.\n",
    "from sklearn.feature_extraction.text import TfidfTransformer"
   ]
  },
  {
   "cell_type": "code",
   "execution_count": 17,
   "id": "662ccc0c",
   "metadata": {},
   "outputs": [
    {
     "name": "stdout",
     "output_type": "stream",
     "text": [
      "[0.37796447 0.37796447 0.37796447 0.37796447 0.37796447 0.37796447\n",
      " 0.37796447]\n"
     ]
    }
   ],
   "source": [
    "#try out the tfidf for only 1 record\n",
    "tfidf_transformer_try = TfidfTransformer().fit(comment_try)\n",
    "comment_tfidf_try = tfidf_transformer_try.transform(comment_try)\n",
    "print(comment_tfidf_try.data)\n"
   ]
  },
  {
   "cell_type": "code",
   "execution_count": 18,
   "id": "b0a4dbb1",
   "metadata": {},
   "outputs": [
    {
     "name": "stdout",
     "output_type": "stream",
     "text": [
      "(748, 3259)\n",
      "[0.38166373 0.42411082 0.16990858 ... 0.41434428 0.41434428 0.41434428]\n"
     ]
    }
   ],
   "source": [
    "# Apply Tf/IDF for the whole df\n",
    "tfidf_transformer = TfidfTransformer().fit(comment)\n",
    "comment_tfidf = tfidf_transformer.transform(comment)\n",
    "print(comment_tfidf.shape)\n",
    "print(comment_tfidf.data)\n"
   ]
  },
  {
   "cell_type": "code",
   "execution_count": 19,
   "id": "ba036ab0",
   "metadata": {},
   "outputs": [],
   "source": [
    "# Split data into train(70%) and test(30%)\n",
    "from sklearn.model_selection import train_test_split\n",
    "X_train, X_test, y_train, y_test = train_test_split(comment_tfidf, df['Label'], test_size=0.30, random_state = 50)    \n"
   ]
  },
  {
   "cell_type": "code",
   "execution_count": 20,
   "id": "5795e4ba",
   "metadata": {},
   "outputs": [
    {
     "data": {
      "text/plain": [
       "249    1\n",
       "303    1\n",
       "540    0\n",
       "476    1\n",
       "467    0\n",
       "      ..\n",
       "132    0\n",
       "289    1\n",
       "109    0\n",
       "480    1\n",
       "688    1\n",
       "Name: Label, Length: 523, dtype: int64"
      ]
     },
     "execution_count": 20,
     "metadata": {},
     "output_type": "execute_result"
    }
   ],
   "source": [
    "y_train"
   ]
  },
  {
   "cell_type": "code",
   "execution_count": 21,
   "id": "5e81b113",
   "metadata": {},
   "outputs": [],
   "source": [
    "# Use Naive Bayes to detect sentiment\n",
    "# Train the model first using train data\n",
    "from sklearn.naive_bayes import MultinomialNB\n",
    "spam_detect_model = MultinomialNB().fit(X_train,y_train)"
   ]
  },
  {
   "cell_type": "code",
   "execution_count": 22,
   "id": "6385a545",
   "metadata": {},
   "outputs": [],
   "source": [
    "# Test the model using test data. Make predictions\n",
    "predictions = spam_detect_model.predict(X_test)"
   ]
  },
  {
   "cell_type": "code",
   "execution_count": 23,
   "id": "b34607a9",
   "metadata": {},
   "outputs": [
    {
     "name": "stdout",
     "output_type": "stream",
     "text": [
      "predicted [1 0 1 0 1 1 1 1 0 0 0 1 1 1 1 1 1 1 0 0 1 1 0 0 1 1 0 0 0 0 0 1 1 1 0 0 0\n",
      " 0 1 1 1 0 0 1 0 1 0 0 1 1 1 0 0 0 0 0 1 0 0 1 1 1 1 1 1 0 1 1 0 1 1 0 0 1\n",
      " 1 1 1 1 1 1 0 1 1 0 0 1 1 1 0 0 1 1 0 0 1 1 1 1 1 1 1 1 0 1 1 0 1 1 0 1 0\n",
      " 0 1 1 1 0 1 1 0 1 1 1 0 1 0 0 1 1 0 1 0 0 1 0 0 0 1 0 1 1 1 0 1 1 1 0 0 0\n",
      " 1 1 0 0 1 1 0 1 0 1 1 1 1 0 0 0 1 1 1 0 1 0 0 0 1 0 1 0 1 0 1 0 1 0 0 1 0\n",
      " 0 1 0 1 0 1 0 0 1 0 1 0 0 1 0 1 1 1 0 0 1 1 1 0 1 0 0 0 1 0 1 0 1 0 0 1 1\n",
      " 0 1 0]\n",
      "(225,)\n"
     ]
    }
   ],
   "source": [
    "print('predicted', predictions)\n",
    "print(predictions.shape)"
   ]
  },
  {
   "cell_type": "code",
   "execution_count": 24,
   "id": "e373cff5",
   "metadata": {},
   "outputs": [
    {
     "name": "stdout",
     "output_type": "stream",
     "text": [
      "actual 537    0\n",
      "265    0\n",
      "626    1\n",
      "550    1\n",
      "202    1\n",
      "      ..\n",
      "38     1\n",
      "339    0\n",
      "653    0\n",
      "145    1\n",
      "216    1\n",
      "Name: Label, Length: 225, dtype: int64\n"
     ]
    }
   ],
   "source": [
    "print('actual', y_test)"
   ]
  },
  {
   "cell_type": "code",
   "execution_count": 25,
   "id": "f0f1d441",
   "metadata": {},
   "outputs": [
    {
     "name": "stdout",
     "output_type": "stream",
     "text": [
      "[[74 33]\n",
      " [27 91]]\n"
     ]
    }
   ],
   "source": [
    "# Compare Predicted vs Actual using Confusion Matrix\n",
    "from sklearn.metrics import confusion_matrix\n",
    "print(confusion_matrix(y_test,predictions))"
   ]
  },
  {
   "cell_type": "code",
   "execution_count": 26,
   "id": "ea5aea6f",
   "metadata": {},
   "outputs": [],
   "source": [
    "# Calculate accuracy score\n",
    "from sklearn.metrics import accuracy_score"
   ]
  },
  {
   "cell_type": "code",
   "execution_count": 27,
   "id": "9795d02e",
   "metadata": {},
   "outputs": [
    {
     "name": "stdout",
     "output_type": "stream",
     "text": [
      "0.7333333333333333\n"
     ]
    }
   ],
   "source": [
    "from sklearn.metrics import accuracy_score\n",
    "print (accuracy_score(y_test, predictions))"
   ]
  },
  {
   "cell_type": "code",
   "execution_count": 28,
   "id": "50465126",
   "metadata": {},
   "outputs": [
    {
     "data": {
      "text/plain": [
       "537    0\n",
       "265    0\n",
       "626    1\n",
       "550    1\n",
       "202    1\n",
       "      ..\n",
       "38     1\n",
       "339    0\n",
       "653    0\n",
       "145    1\n",
       "216    1\n",
       "Name: Label, Length: 225, dtype: int64"
      ]
     },
     "execution_count": 28,
     "metadata": {},
     "output_type": "execute_result"
    }
   ],
   "source": [
    "y_test"
   ]
  },
  {
   "cell_type": "code",
   "execution_count": 29,
   "id": "436fc240",
   "metadata": {},
   "outputs": [
    {
     "name": "stdout",
     "output_type": "stream",
     "text": [
      "60\n",
      "537                                                                                   Nothing new there.  \n",
      "550          I'm a big fan of this series mostly due to Anne Rice's style, sensitivities and treatments.  \n",
      "350                                                  The original Body and Soul (1947) is a masterpiece.  \n",
      "115                  Artless camera-work endlessly presents us with the ugliest setting imaginable, i.e.  \n",
      "46                                           I love Lane, but I've never seen her in a movie this lousy.  \n",
      "86                                                                              A truly, truly bad film.  \n",
      "625                                                     I struggle to find anything bad to say about it.  \n",
      "423    A mature, subtle script that suggests and occasionally brings into dramatic focus the underlying...\n",
      "222                                                                                        It just blew.  \n",
      "16     This review is long overdue, since I consider A Tale of Two Sisters to be the single greatest fi...\n",
      "48                                                 But in terms of the writing it's very fresh and bold.  \n",
      "413                                                            I believe that Pitch Black was done well.  \n",
      "560                                                                                    A standout scene.  \n",
      "336                                                       but the movie makes a lot of serious mistakes.  \n",
      "512                                                      The stories were as unbelievable as the actors.  \n",
      "210                                                           It really created a unique feeling though.  \n",
      "282    The acting by the whole cast could be put on a scale and balanced perfectly between overacting a...\n",
      "624                                              It's a long time since I was so entertained by a movie.  \n",
      "711                                                        The film's dialogue is natural, real to life.  \n",
      "77                                I saw \"Mirrormask\" last night and it was an unsatisfactory experience.  \n",
      "510                     Never heard of any of them except Cole who was totally unbelievable in the part.  \n",
      "195                              Having to humour him just to get by and get through the day was so apt.  \n",
      "344    While you don't yet hear Mickey speak, there are tons of sound effects and music throughout the ...\n",
      "469                                                                                      It is not good.  \n",
      "255                                                                        Not even good for camp value!  \n",
      "470                                      Speaking of the music, it is unbearably predictably and kitchy.  \n",
      "391                                      Beware: this is not a trashy cult movie, this is trash -period!  \n",
      "726    Then I watched it again two Sundays ago (March 20th, 2005) and I began to really enjoy it and th...\n",
      "127                                                                         Nothing at all to recommend.  \n",
      "416                                                                                  Omit watching this.  \n",
      "528                                                                       It will drive you barking mad!  \n",
      "658                                               I highly doubt that anyone could ever like this trash.  \n",
      "567    Personally, I think it shows that people should learn to find a compromise them self without inv...\n",
      "684         The two main characters may be two of the most believable children I ever saw put on screen.  \n",
      "111                                              I certainly do not mean this distinction in a good way.  \n",
      "358                    Both films are terrible, but to the credit of the 1986 version, it was watchable.  \n",
      "670                                              I've seen soap operas more intelligent than this movie.  \n",
      "562    Technically, the film is well made with impressive camera-work, solid acting and effective music...\n",
      "225         Now we were chosen to be tortured with this disgusting piece of blatant American propaganda.  \n",
      "108               Your brain will attempt to shut-down as part of a primal impulse of self-preservation.  \n",
      "475                                                             All of the main players are mesmerising.  \n",
      "621    The characters are fleshed out surprisingly well, particularly Grimes and Blake, and all the act...\n",
      "110    This movie now joins Revenge of the Boogeyman and Zombiez as part of the hellish trinity of horr...\n",
      "104    NOBODY identifies with these characters because they're all cardboard cutouts and stereotypes (o...\n",
      "675                               It was a long time that i didn't see a so charismatic actor on screen.  \n",
      "460    Helen Baxendale is a very credible lady Macbeth who can be very cheerfull at times and sometimes...\n",
      "34     MANNA FROM HEAVEN is a terrific film that is both predictable and unpredictable at the same time.  \n",
      "674                                           Funny, clever, hip - just like Pray's previous film, Hype!  \n",
      "616    You share General Loewenhielm's exquisite joy in his partaking of the Cailles en Sarcophage even...\n",
      "279                                                                     The directing is sloppy at best.  \n",
      "124                                                                                Highly unrecommended.  \n",
      "481                                                                    The aerial scenes were well-done.  \n",
      "382    This was reflected not only in the cast, but also in the below-par script, which borrowed much f...\n",
      "326    Full of unconvincing cardboard characters it is blandly written by Edward Chodorov, who also pro...\n",
      "471                                                                 Then the film just dropped the ball.  \n",
      "151                       The guy who said he's had better dialogue with his potted plants has it right.  \n",
      "5      The rest of the movie lacks art, charm, meaning... If it's about emptiness, it works I guess bec...\n",
      "618                                      The warmth it generates is in contrast to its austere backdrop.  \n",
      "339    putting the race card aside, lets look at the major flaw in the film: they destroy latifa's char...\n",
      "216                                         I would have casted her in that role after ready the script.  \n",
      "Name: Comment, dtype: object\n"
     ]
    }
   ],
   "source": [
    "# Print the comments which are predicted incorrectly.\n",
    "incorrect = y_test.get(y_test != predictions)\n",
    "print(incorrect.count())\n",
    "comment_x_test = df['Comment'].filter(items=incorrect.index)\n",
    "pd.options.display.max_colwidth = 100\n",
    "print(comment_x_test)\n"
   ]
  },
  {
   "cell_type": "code",
   "execution_count": 30,
   "id": "148ce9da",
   "metadata": {},
   "outputs": [
    {
     "name": "stdout",
     "output_type": "stream",
     "text": [
      "total test \n",
      " Predicted    225\n",
      "Actual       225\n",
      "dtype: int64\n",
      "Predicted not equal to Actual:\n",
      " Predicted    60\n",
      "Actual       60\n",
      "dtype: int64\n",
      "Predicted equal to Actual:\n",
      " Predicted    165\n",
      "Actual       165\n",
      "dtype: int64\n"
     ]
    }
   ],
   "source": [
    "test = pd.DataFrame({'Predicted':predictions,'Actual':y_test})\n",
    "print('total test \\n', test.count())\n",
    "print('Predicted not equal to Actual:\\n', test[test['Predicted'] != test['Actual']].count())\n",
    "print('Predicted equal to Actual:\\n', test[test['Predicted'] == test['Actual']].count())\n"
   ]
  },
  {
   "cell_type": "code",
   "execution_count": null,
   "id": "a958aa3e",
   "metadata": {},
   "outputs": [],
   "source": []
  }
 ],
 "metadata": {
  "kernelspec": {
   "display_name": "Python 3",
   "language": "python",
   "name": "python3"
  },
  "language_info": {
   "codemirror_mode": {
    "name": "ipython",
    "version": 3
   },
   "file_extension": ".py",
   "mimetype": "text/x-python",
   "name": "python",
   "nbconvert_exporter": "python",
   "pygments_lexer": "ipython3",
   "version": "3.8.8"
  }
 },
 "nbformat": 4,
 "nbformat_minor": 5
}
